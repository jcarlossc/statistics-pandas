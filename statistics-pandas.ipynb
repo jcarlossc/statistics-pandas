{
 "cells": [
  {
   "cell_type": "markdown",
   "id": "40694065",
   "metadata": {
    "papermill": {
     "duration": 0.004167,
     "end_time": "2025-10-31T02:51:34.865838",
     "exception": false,
     "start_time": "2025-10-31T02:51:34.861671",
     "status": "completed"
    },
    "tags": []
   },
   "source": [
    "<h1>📌 Operações Estatísticas em Pandas</h1>\n",
    "\n",
    "<p style='font-size:16px;'>O Pandas é uma das bibliotecas mais poderosas do Python para manipulação e análise de dados. Ele oferece diversas funções estatísticas prontas, que permitem entender melhor os seus dados sem precisar de cálculos manuais ou uso de planilhas.</p>\n",
    "<p style='font-size:16px;'>Neste notebook, vamos explorar as principais operações estatísticas que você pode realizar com o Pandas</p>\n",
    "\n",
    "<h4>📌 Autor: Carlos da Costa</h4>\n",
    "📌Recife, PE - Brasil<br>\n",
    "📌Telefone: +55 81 99712 9140<br>\n",
    "📌Telegram: @jcarlossc<br>\n",
    "📌Blogger linguagem R: https://informaticus77-r.blogspot.com/<br>\n",
    "📌Blogger linguagem Python: https://informaticus77-python.blogspot.com/<br>\n",
    "📌Email: jcarlossc1977@gmail.com<br>\n",
    "📌Portfólio em construção: https://portfolio-carlos-costa.netlify.app/<br>\n",
    "📌LinkedIn: https://www.linkedin.com/in/carlos-da-costa-669252149/<br>\n",
    "📌GitHub: https://github.com/jcarlossc<br>\n",
    "📌Kaggle: https://www.kaggle.com/jcarlossc/<br>\n",
    "📌Twitter/X: https://x.com/jcarlossc1977<br>"
   ]
  },
  {
   "cell_type": "code",
   "execution_count": 1,
   "id": "1ddfe084",
   "metadata": {
    "execution": {
     "iopub.execute_input": "2025-10-31T02:51:34.873723Z",
     "iopub.status.busy": "2025-10-31T02:51:34.873393Z",
     "iopub.status.idle": "2025-10-31T02:51:36.911964Z",
     "shell.execute_reply": "2025-10-31T02:51:36.911131Z"
    },
    "papermill": {
     "duration": 2.044424,
     "end_time": "2025-10-31T02:51:36.913648",
     "exception": false,
     "start_time": "2025-10-31T02:51:34.869224",
     "status": "completed"
    },
    "tags": []
   },
   "outputs": [],
   "source": [
    "# Importação da biblioteca Pandas.\n",
    "import pandas as pd"
   ]
  },
  {
   "cell_type": "markdown",
   "id": "a37423f9",
   "metadata": {
    "papermill": {
     "duration": 0.002952,
     "end_time": "2025-10-31T02:51:36.920111",
     "exception": false,
     "start_time": "2025-10-31T02:51:36.917159",
     "status": "completed"
    },
    "tags": []
   },
   "source": [
    "<h2>📌 Criando um DataFrame</h2>\n",
    "<p style='font-size:16px;'>Antes de começar, precisamos criar um pequeno conjunto de dados (DataFrame):</p>"
   ]
  },
  {
   "cell_type": "code",
   "execution_count": 2,
   "id": "46b926ff",
   "metadata": {
    "execution": {
     "iopub.execute_input": "2025-10-31T02:51:36.927998Z",
     "iopub.status.busy": "2025-10-31T02:51:36.927533Z",
     "iopub.status.idle": "2025-10-31T02:51:36.937820Z",
     "shell.execute_reply": "2025-10-31T02:51:36.936649Z"
    },
    "papermill": {
     "duration": 0.016447,
     "end_time": "2025-10-31T02:51:36.939744",
     "exception": false,
     "start_time": "2025-10-31T02:51:36.923297",
     "status": "completed"
    },
    "tags": []
   },
   "outputs": [],
   "source": [
    "dados = pd.DataFrame(\n",
    "    { \"idade\": [23, 25, 31, 35, 40, 29, 23, 37, 41, 30], \n",
    "     \"salario\": [2500, 2700, 3200, 4000, 5000, 3100, 2600, 4500, 5200, 3300], \n",
    "     \"departamento\": [\"RH\", \"RH\", \"TI\", \"TI\", \"Financeiro\", \"TI\", \"RH\", \"Financeiro\", \"Financeiro\", \"TI\"] }\n",
    ")"
   ]
  },
  {
   "cell_type": "code",
   "execution_count": 3,
   "id": "e9b6d99a",
   "metadata": {
    "execution": {
     "iopub.execute_input": "2025-10-31T02:51:36.948259Z",
     "iopub.status.busy": "2025-10-31T02:51:36.947917Z",
     "iopub.status.idle": "2025-10-31T02:51:36.967039Z",
     "shell.execute_reply": "2025-10-31T02:51:36.965843Z"
    },
    "papermill": {
     "duration": 0.02526,
     "end_time": "2025-10-31T02:51:36.968702",
     "exception": false,
     "start_time": "2025-10-31T02:51:36.943442",
     "status": "completed"
    },
    "tags": []
   },
   "outputs": [
    {
     "name": "stdout",
     "output_type": "stream",
     "text": [
      "   idade  salario departamento\n",
      "0     23     2500           RH\n",
      "1     25     2700           RH\n",
      "2     31     3200           TI\n",
      "3     35     4000           TI\n",
      "4     40     5000   Financeiro\n",
      "5     29     3100           TI\n",
      "6     23     2600           RH\n",
      "7     37     4500   Financeiro\n",
      "8     41     5200   Financeiro\n",
      "9     30     3300           TI\n"
     ]
    }
   ],
   "source": [
    "print(dados)"
   ]
  },
  {
   "cell_type": "markdown",
   "id": "83cc189c",
   "metadata": {
    "papermill": {
     "duration": 0.003031,
     "end_time": "2025-10-31T02:51:36.975206",
     "exception": false,
     "start_time": "2025-10-31T02:51:36.972175",
     "status": "completed"
    },
    "tags": []
   },
   "source": [
    "<h2>📌 Estatísticas Descritivas</h2>\n",
    "\n",
    "<p style='font-size:16px;'>Com o método describe(), é possível visualizar rapidamente algumas medidas de posição e dispersão:</p>"
   ]
  },
  {
   "cell_type": "code",
   "execution_count": 4,
   "id": "f22be752",
   "metadata": {
    "execution": {
     "iopub.execute_input": "2025-10-31T02:51:36.983271Z",
     "iopub.status.busy": "2025-10-31T02:51:36.982954Z",
     "iopub.status.idle": "2025-10-31T02:51:37.015542Z",
     "shell.execute_reply": "2025-10-31T02:51:37.014358Z"
    },
    "papermill": {
     "duration": 0.038805,
     "end_time": "2025-10-31T02:51:37.017371",
     "exception": false,
     "start_time": "2025-10-31T02:51:36.978566",
     "status": "completed"
    },
    "tags": []
   },
   "outputs": [
    {
     "name": "stdout",
     "output_type": "stream",
     "text": [
      "           idade      salario\n",
      "count  10.000000    10.000000\n",
      "mean   31.400000  3610.000000\n",
      "std     6.669999  1000.499875\n",
      "min    23.000000  2500.000000\n",
      "25%    26.000000  2800.000000\n",
      "50%    30.500000  3250.000000\n",
      "75%    36.500000  4375.000000\n",
      "max    41.000000  5200.000000\n"
     ]
    }
   ],
   "source": [
    "print(dados.describe())\n",
    "# count: quantidade de observações\n",
    "# mean: média aritmética\n",
    "# std: desvio padrão\n",
    "# min: valor menos\n",
    "# 25%: primeiro quartil\n",
    "# 50%: segundo quartil ou mediana\n",
    "# 75%: terceiro quartil\n",
    "# max: valor máximo"
   ]
  },
  {
   "cell_type": "markdown",
   "id": "22656889",
   "metadata": {
    "papermill": {
     "duration": 0.003191,
     "end_time": "2025-10-31T02:51:37.024207",
     "exception": false,
     "start_time": "2025-10-31T02:51:37.021016",
     "status": "completed"
    },
    "tags": []
   },
   "source": [
    "<h2>📌 Medidas de Tendência Central</h2>\n",
    "\n",
    "<p style='font-size:16px;'>Essas medidas ajudam a entender o comportamento médio dos dados:</p>"
   ]
  },
  {
   "cell_type": "code",
   "execution_count": 5,
   "id": "efa0c59f",
   "metadata": {
    "execution": {
     "iopub.execute_input": "2025-10-31T02:51:37.032451Z",
     "iopub.status.busy": "2025-10-31T02:51:37.032095Z",
     "iopub.status.idle": "2025-10-31T02:51:37.042919Z",
     "shell.execute_reply": "2025-10-31T02:51:37.041803Z"
    },
    "papermill": {
     "duration": 0.016775,
     "end_time": "2025-10-31T02:51:37.044482",
     "exception": false,
     "start_time": "2025-10-31T02:51:37.027707",
     "status": "completed"
    },
    "tags": []
   },
   "outputs": [
    {
     "name": "stdout",
     "output_type": "stream",
     "text": [
      "Média: 31.4\n",
      "Mediana: 30.5\n",
      "Moda: 23\n"
     ]
    }
   ],
   "source": [
    "# Média → soma de todos os valores dividida pela quantidade:\n",
    "print(\"Média:\", dados[\"idade\"].mean()) \n",
    "\n",
    "# Mediana → valor central da amostra ordenada:\n",
    "print(\"Mediana:\", dados[\"idade\"].median()) \n",
    "\n",
    "# Moda → valor mais frequente:\n",
    "print(\"Moda:\", dados[\"idade\"].mode().values[0])"
   ]
  },
  {
   "cell_type": "markdown",
   "id": "6a306d82",
   "metadata": {
    "papermill": {
     "duration": 0.003196,
     "end_time": "2025-10-31T02:51:37.051287",
     "exception": false,
     "start_time": "2025-10-31T02:51:37.048091",
     "status": "completed"
    },
    "tags": []
   },
   "source": [
    "<h2>📌 Medidas de Dispersão</h2>\n",
    "\n",
    "<p style='font-size:16px;'>Essas medidas indicam o quanto os dados estão espalhados:</p>\n",
    "<p style='font-size:16px;'>Quanto maior o desvio padrão, mais os valores se afastam da média.</p>"
   ]
  },
  {
   "cell_type": "code",
   "execution_count": 6,
   "id": "a3c5f0b4",
   "metadata": {
    "execution": {
     "iopub.execute_input": "2025-10-31T02:51:37.059459Z",
     "iopub.status.busy": "2025-10-31T02:51:37.059115Z",
     "iopub.status.idle": "2025-10-31T02:51:37.065883Z",
     "shell.execute_reply": "2025-10-31T02:51:37.064472Z"
    },
    "papermill": {
     "duration": 0.013033,
     "end_time": "2025-10-31T02:51:37.067731",
     "exception": false,
     "start_time": "2025-10-31T02:51:37.054698",
     "status": "completed"
    },
    "tags": []
   },
   "outputs": [
    {
     "name": "stdout",
     "output_type": "stream",
     "text": [
      "Desvio padrão: 1000.499875062461\n",
      "Variância: 1001000.0\n"
     ]
    }
   ],
   "source": [
    "# Desvio padrão:\n",
    "print(\"Desvio padrão:\", dados[\"salario\"].std()) \n",
    "\n",
    "# Variância:\n",
    "print(\"Variância:\", dados[\"salario\"].var())"
   ]
  },
  {
   "cell_type": "markdown",
   "id": "461b8b32",
   "metadata": {
    "papermill": {
     "duration": 0.003296,
     "end_time": "2025-10-31T02:51:37.075022",
     "exception": false,
     "start_time": "2025-10-31T02:51:37.071726",
     "status": "completed"
    },
    "tags": []
   },
   "source": [
    "<h2>📌 Estatísticas por Grupo</h2>\n",
    "\n",
    "<p style='font-size:16px;'>O método groupby() é essencial para comparar grupos dentro dos dados:</p>\n",
    "\n",
    "<p style='font-size:16px;'>Esse exemplo mostra a média salarial por departamento, algo muito útil em relatórios corporativos e análises financeiras.</p>"
   ]
  },
  {
   "cell_type": "code",
   "execution_count": 7,
   "id": "8261f66c",
   "metadata": {
    "execution": {
     "iopub.execute_input": "2025-10-31T02:51:37.083583Z",
     "iopub.status.busy": "2025-10-31T02:51:37.083173Z",
     "iopub.status.idle": "2025-10-31T02:51:37.099889Z",
     "shell.execute_reply": "2025-10-31T02:51:37.098662Z"
    },
    "papermill": {
     "duration": 0.022998,
     "end_time": "2025-10-31T02:51:37.101652",
     "exception": false,
     "start_time": "2025-10-31T02:51:37.078654",
     "status": "completed"
    },
    "tags": []
   },
   "outputs": [
    {
     "name": "stdout",
     "output_type": "stream",
     "text": [
      "departamento\n",
      "Financeiro    4900.0\n",
      "RH            2600.0\n",
      "TI            3400.0\n",
      "Name: salario, dtype: float64\n"
     ]
    }
   ],
   "source": [
    "# Média de salário por departamento:\n",
    "print(dados.groupby(\"departamento\")[\"salario\"].mean())"
   ]
  },
  {
   "cell_type": "markdown",
   "id": "a2dd751b",
   "metadata": {
    "papermill": {
     "duration": 0.003784,
     "end_time": "2025-10-31T02:51:37.109956",
     "exception": false,
     "start_time": "2025-10-31T02:51:37.106172",
     "status": "completed"
    },
    "tags": []
   },
   "source": [
    "<h2>📌 Correlação</h2>\n",
    "\n",
    "<p style='font-size:16px;'>Para verificar se duas variáveis estão relacionadas, usamos:<p>\n",
    "\n",
    "<p style='font-size:16px;'>Uma correlação próxima de 1 indica relação positiva forte, enquanto próxima de -1 indica relação negativa.</p>"
   ]
  },
  {
   "cell_type": "code",
   "execution_count": 8,
   "id": "284b3569",
   "metadata": {
    "execution": {
     "iopub.execute_input": "2025-10-31T02:51:37.119391Z",
     "iopub.status.busy": "2025-10-31T02:51:37.119020Z",
     "iopub.status.idle": "2025-10-31T02:51:37.131656Z",
     "shell.execute_reply": "2025-10-31T02:51:37.130721Z"
    },
    "papermill": {
     "duration": 0.019279,
     "end_time": "2025-10-31T02:51:37.133270",
     "exception": false,
     "start_time": "2025-10-31T02:51:37.113991",
     "status": "completed"
    },
    "tags": []
   },
   "outputs": [
    {
     "name": "stdout",
     "output_type": "stream",
     "text": [
      "           idade  salario\n",
      "idade    1.00000  0.98335\n",
      "salario  0.98335  1.00000\n"
     ]
    }
   ],
   "source": [
    "print(dados[[\"idade\", \"salario\"]].corr())"
   ]
  },
  {
   "cell_type": "markdown",
   "id": "b6c2513f",
   "metadata": {
    "papermill": {
     "duration": 0.003391,
     "end_time": "2025-10-31T02:51:37.140802",
     "exception": false,
     "start_time": "2025-10-31T02:51:37.137411",
     "status": "completed"
    },
    "tags": []
   },
   "source": [
    "<h2>📌 Frequência e Percentuais</h2>\n",
    "\n",
    "<p style='font-size:16px;'>Para entender a distribuição de categorias, use:</p>\n",
    "\n",
    "<p style='font-size:16px;'>Esses comandos mostram a contagem e o percentual de cada departamento.</p>"
   ]
  },
  {
   "cell_type": "code",
   "execution_count": 9,
   "id": "24abc07f",
   "metadata": {
    "execution": {
     "iopub.execute_input": "2025-10-31T02:51:37.149169Z",
     "iopub.status.busy": "2025-10-31T02:51:37.148858Z",
     "iopub.status.idle": "2025-10-31T02:51:37.159335Z",
     "shell.execute_reply": "2025-10-31T02:51:37.158220Z"
    },
    "papermill": {
     "duration": 0.016416,
     "end_time": "2025-10-31T02:51:37.160851",
     "exception": false,
     "start_time": "2025-10-31T02:51:37.144435",
     "status": "completed"
    },
    "tags": []
   },
   "outputs": [
    {
     "name": "stdout",
     "output_type": "stream",
     "text": [
      "departamento\n",
      "TI            4\n",
      "RH            3\n",
      "Financeiro    3\n",
      "Name: count, dtype: int64\n",
      "departamento\n",
      "TI            40.0\n",
      "RH            30.0\n",
      "Financeiro    30.0\n",
      "Name: proportion, dtype: float64\n"
     ]
    }
   ],
   "source": [
    "# Frequência:\n",
    "print(dados[\"departamento\"].value_counts())\n",
    "\n",
    "# Percentual:\n",
    "print(dados[\"departamento\"].value_counts(normalize=True) * 100)"
   ]
  },
  {
   "cell_type": "markdown",
   "id": "80a55c2d",
   "metadata": {
    "papermill": {
     "duration": 0.003553,
     "end_time": "2025-10-31T02:51:37.168117",
     "exception": false,
     "start_time": "2025-10-31T02:51:37.164564",
     "status": "completed"
    },
    "tags": []
   },
   "source": [
    "<h2>📌 Conclusão</h2>\n",
    "\n",
    "<p style='font-size:16px;'>O Pandas facilita muito o trabalho com estatísticas em Python. Com poucos comandos, você pode obter informações valiosas sobre médias, dispersões, correlações e muito mais — tudo de forma rápida e intuitiva.</p>\n",
    "\n",
    "<p style='font-size:16px;'>Essas ferramentas são a base para análises exploratórias, relatórios de negócios e até para preparar dados antes de aplicar algoritmos de Aprendizado de Máquina.</p>"
   ]
  }
 ],
 "metadata": {
  "kaggle": {
   "accelerator": "none",
   "dataSources": [],
   "dockerImageVersionId": 31153,
   "isGpuEnabled": false,
   "isInternetEnabled": true,
   "language": "python",
   "sourceType": "notebook"
  },
  "kernelspec": {
   "display_name": "Python 3",
   "language": "python",
   "name": "python3"
  },
  "language_info": {
   "codemirror_mode": {
    "name": "ipython",
    "version": 3
   },
   "file_extension": ".py",
   "mimetype": "text/x-python",
   "name": "python",
   "nbconvert_exporter": "python",
   "pygments_lexer": "ipython3",
   "version": "3.11.13"
  },
  "papermill": {
   "default_parameters": {},
   "duration": 8.171078,
   "end_time": "2025-10-31T02:51:37.692123",
   "environment_variables": {},
   "exception": null,
   "input_path": "__notebook__.ipynb",
   "output_path": "__notebook__.ipynb",
   "parameters": {},
   "start_time": "2025-10-31T02:51:29.521045",
   "version": "2.6.0"
  }
 },
 "nbformat": 4,
 "nbformat_minor": 5
}
